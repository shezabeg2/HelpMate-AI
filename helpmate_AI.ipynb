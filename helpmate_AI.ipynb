{
 "cells": [
  {
   "cell_type": "code",
   "execution_count": 1,
   "metadata": {
    "id": "4GTCEMK_yfN8"
   },
   "outputs": [],
   "source": [
    "# Install all the required libraries\n",
    "\n",
    "!pip install pdfplumber tiktoken openai chromaDB sentence-transformers -q"
   ]
  },
  {
   "cell_type": "code",
   "execution_count": 2,
   "metadata": {
    "id": "vl9Bm2mHyxzE"
   },
   "outputs": [],
   "source": [
    "# Import all the required Dependencies\n",
    "\n",
    "import pdfplumber\n",
    "from pathlib import Path\n",
    "import pandas as pd\n",
    "from operator import itemgetter\n",
    "import json\n",
    "import tiktoken\n",
    "import openai\n",
    "import chromadb"
   ]
  },
  {
   "cell_type": "code",
   "execution_count": 3,
   "metadata": {
    "colab": {
     "base_uri": "https://localhost:8080/"
    },
    "id": "0BEOOK7cyxvm",
    "outputId": "cc7bb2a9-1909-4968-d99b-8ba4f06551ce"
   },
   "outputs": [
    {
     "ename": "ModuleNotFoundError",
     "evalue": "No module named 'google.colab'",
     "output_type": "error",
     "traceback": [
      "\u001b[1;31m---------------------------------------------------------------------------\u001b[0m",
      "\u001b[1;31mModuleNotFoundError\u001b[0m                       Traceback (most recent call last)",
      "Cell \u001b[1;32mIn[3], line 2\u001b[0m\n\u001b[0;32m      1\u001b[0m \u001b[38;5;66;03m# Mount Google Drive\u001b[39;00m\n\u001b[1;32m----> 2\u001b[0m \u001b[38;5;28;01mfrom\u001b[39;00m \u001b[38;5;21;01mgoogle\u001b[39;00m\u001b[38;5;21;01m.\u001b[39;00m\u001b[38;5;21;01mcolab\u001b[39;00m \u001b[38;5;28;01mimport\u001b[39;00m drive\n\u001b[0;32m      3\u001b[0m drive\u001b[38;5;241m.\u001b[39mmount(\u001b[38;5;124m'\u001b[39m\u001b[38;5;124m/content/drive\u001b[39m\u001b[38;5;124m'\u001b[39m, force_remount\u001b[38;5;241m=\u001b[39m\u001b[38;5;28;01mTrue\u001b[39;00m)\n",
      "\u001b[1;31mModuleNotFoundError\u001b[0m: No module named 'google.colab'"
     ]
    }
   ],
   "source": [
    "# Mount Google Drive\n",
    "from google.colab import drive\n",
    "drive.mount('/content/drive', force_remount=True)"
   ]
  },
  {
   "cell_type": "code",
   "execution_count": null,
   "metadata": {
    "id": "bsUdJoOxyxsa"
   },
   "outputs": [],
   "source": [
    "# Define the path of the given PDF file\n",
    "single_pdf_path = 'https://drive.google.com/drive/folders/1aWmIfkBhPvaT1Z9W9CWThS0OrKh-fiw9'"
   ]
  },
  {
   "cell_type": "code",
   "execution_count": null,
   "metadata": {
    "colab": {
     "base_uri": "https://localhost:8080/"
    },
    "id": "OxoEEcTO1XtD",
    "outputId": "1ab4ddf4-0ed2-4d4d-c589-8e183162abb2"
   },
   "outputs": [],
   "source": [
    "import os\n",
    "\n",
    "folder_path = '/content/drive/My Drive/Policy+Documents'  # Adjust the path to your folder\n",
    "files = os.listdir(folder_path)\n",
    "\n",
    "print(\"Files in folder:\")\n",
    "for file in files:\n",
    "    print(file)"
   ]
  },
  {
   "cell_type": "code",
   "execution_count": null,
   "metadata": {
    "id": "nkSYZ0hUyxjF"
   },
   "outputs": [],
   "source": [
    "# Define the path of the given PDF file\n",
    "single_pdf_path = '/content/drive/My Drive/Policy+Documents/HDFC-Life-Easy-Health-101N110V03-Policy-Bond-Single-Pay.pdf'"
   ]
  },
  {
   "cell_type": "code",
   "execution_count": null,
   "metadata": {
    "colab": {
     "base_uri": "https://localhost:8080/"
    },
    "id": "zkPa0fb5yxfz",
    "outputId": "572413a6-39e9-42d5-f67c-88d5e985c10c"
   },
   "outputs": [],
   "source": [
    "# Open the PDF file\n",
    "with pdfplumber.open(single_pdf_path) as pdf:\n",
    "\n",
    "    # Get one of the pages from the PDF and examine it\n",
    "    one_page = pdf.pages[4]\n",
    "\n",
    "    # Extract text from the first page\n",
    "    text = one_page.extract_text()\n",
    "\n",
    "    # Extract tables from the first page\n",
    "    tables = one_page.extract_tables()\n",
    "\n",
    "    # Print the extracted text\n",
    "    print(text)"
   ]
  },
  {
   "cell_type": "code",
   "execution_count": null,
   "metadata": {
    "colab": {
     "base_uri": "https://localhost:8080/"
    },
    "id": "t9QPCXQVyxcc",
    "outputId": "7fc2821a-d161-4982-83ad-11d107055bf0"
   },
   "outputs": [],
   "source": [
    "# View the table in the page, if any\n",
    "if len(tables) > 0:\n",
    "            # Access the first table\n",
    "            first_table = tables[0]\n",
    "            for row in first_table:\n",
    "                print(row)\n",
    "else:\n",
    "            print(\"No tables found\")\n"
   ]
  },
  {
   "cell_type": "code",
   "execution_count": null,
   "metadata": {
    "id": "rTdaghGzyxZX"
   },
   "outputs": [],
   "source": [
    "# Define the path where all pdf documents are present\n",
    "\n",
    "\n",
    "pdf_path = \"/content/drive/My Drive/Policy+Documents\""
   ]
  },
  {
   "cell_type": "code",
   "execution_count": null,
   "metadata": {
    "id": "oGs0UtQY6vn_"
   },
   "outputs": [],
   "source": [
    "def check_bboxes(word, table_bbox):\n",
    "    l = (word['x0'], word['top'], word['x1'], word['bottom'])\n",
    "    r = table_bbox\n",
    "    return (l[0] > r[0] and   # Left x of word > Left x of table\n",
    "            l[1] > r[1] and   # Top y of word > Top y of table\n",
    "            l[2] < r[2] and   # Right x of word < Right x of table\n",
    "            l[3] < r[3])      # Bottom y of word < Bottom y of table"
   ]
  },
  {
   "cell_type": "code",
   "execution_count": null,
   "metadata": {
    "id": "uIFrkCg94XvC"
   },
   "outputs": [],
   "source": [
    "def extract_text_from_pdf(pdf_path):\n",
    "    p = 0\n",
    "    full_text = []\n",
    "\n",
    "\n",
    "    with pdfplumber.open(pdf_path) as pdf:\n",
    "        for page in pdf.pages:\n",
    "            page_no = f\"Page {p+1}\"\n",
    "            text = page.extract_text()\n",
    "\n",
    "            tables = page.find_tables()\n",
    "            table_bboxes = [i.bbox for i in tables]\n",
    "            tables = [{'table': i.extract(), 'top': i.bbox[1]} for i in tables]\n",
    "            non_table_words = [word for word in page.extract_words() if not any(\n",
    "                [check_bboxes(word, table_bbox) for table_bbox in table_bboxes])]\n",
    "            lines = []\n",
    "\n",
    "            for cluster in pdfplumber.utils.cluster_objects(non_table_words + tables, itemgetter('top'), tolerance=5):\n",
    "\n",
    "                if 'text' in cluster[0]:\n",
    "                    try:\n",
    "                        lines.append(' '.join([i['text'] for i in cluster]))\n",
    "                    except KeyError:\n",
    "                        pass\n",
    "\n",
    "                elif 'table' in cluster[0]:\n",
    "                    lines.append(json.dumps(cluster[0]['table']))\n",
    "\n",
    "\n",
    "            full_text.append([page_no, \" \".join(lines)])\n",
    "            p +=1\n",
    "\n",
    "    return full_text\n"
   ]
  },
  {
   "cell_type": "code",
   "execution_count": null,
   "metadata": {
    "colab": {
     "base_uri": "https://localhost:8080/"
    },
    "id": "7_5GAili4XqH",
    "outputId": "f9b1b190-c279-479e-d6c0-33e0829a725d"
   },
   "outputs": [],
   "source": [
    "# Define the directory containing the PDF files\n",
    "import pandas as pd\n",
    "from pathlib import Path\n",
    "\n",
    "# Define the directory containing the PDFs\n",
    "pdf_directory = Path(\"/content/drive/My Drive/Policy+Documents\")\n",
    "\n",
    "# Initialize an empty list to store the extracted texts and document names\n",
    "data = []\n",
    "\n",
    "# Loop through the specified PDF file in the directory\n",
    "for pdf_path in pdf_directory.glob(\"HDFC-Life-Easy-Health-101N110V03-Policy-Bond-Single-Pay.pdf\"):\n",
    "    # Process the PDF file\n",
    "    print(f\"...Processing {pdf_path.name}\")\n",
    "\n",
    "    # Call the function to extract the text from the PDF\n",
    "    extracted_text = extract_text_from_pdf(pdf_path)\n",
    "\n",
    "    # Convert the extracted list to a DataFrame, and add a column to store document names\n",
    "    extracted_text_df = pd.DataFrame(extracted_text, columns=['Page No.', 'Page_Text'])\n",
    "    extracted_text_df['Document Name'] = pdf_path.name\n",
    "\n",
    "    # Append the extracted text DataFrame to the list\n",
    "    data.append(extracted_text_df)\n",
    "\n",
    "    # Print a message to indicate progress\n",
    "    print(f\"Finished processing {pdf_path.name}\")\n",
    "\n",
    "# Concatenate all DataFrames in the list into a single DataFrame\n",
    "final_df = pd.concat(data, ignore_index=True)\n",
    "\n",
    "# Print a message to indicate all PDFs have been processed\n",
    "print(\"All PDFs have been processed.\")\n",
    "\n",
    "# Save the final DataFrame to a CSV file\n",
    "final_df.to_csv('/content/drive/My Drive/Policy+Documents/extracted_texts.csv', index=False)\n",
    "print(\"Extracted texts saved to extracted_texts.csv\")\n"
   ]
  },
  {
   "cell_type": "code",
   "execution_count": null,
   "metadata": {
    "id": "yQFI7kQ-4Xm9"
   },
   "outputs": [],
   "source": [
    "# Concatenate all the PDFs in the list 'data' together\n",
    "\n",
    "insurance_pdfs_data = pd.concat(data, ignore_index=True)\n"
   ]
  },
  {
   "cell_type": "code",
   "execution_count": null,
   "metadata": {
    "colab": {
     "base_uri": "https://localhost:8080/",
     "height": 1000
    },
    "id": "wEibzJaj4Xi9",
    "outputId": "3280f365-b1ac-4213-a6ca-115d4b9982f1"
   },
   "outputs": [],
   "source": [
    "insurance_pdfs_data"
   ]
  },
  {
   "cell_type": "code",
   "execution_count": null,
   "metadata": {
    "colab": {
     "base_uri": "https://localhost:8080/",
     "height": 430
    },
    "id": "n1kjZueT4Xfn",
    "outputId": "36e379e0-2324-47d3-f7b5-c0bd2dd1255e"
   },
   "outputs": [],
   "source": [
    "from matplotlib import pyplot as plt\n",
    "import seaborn as sns\n",
    "insurance_pdfs_data.groupby('Document Name').size().plot(kind='barh', color=sns.palettes.mpl_palette('Dark2'))\n",
    "plt.gca().spines[['top', 'right',]].set_visible(False)"
   ]
  },
  {
   "cell_type": "code",
   "execution_count": null,
   "metadata": {
    "colab": {
     "base_uri": "https://localhost:8080/",
     "height": 123
    },
    "id": "4_NjsnRo8Wo-",
    "outputId": "fcb60cf1-9bae-449e-a8e4-17b9ab60163f"
   },
   "outputs": [],
   "source": [
    "# Check one of the extracted page texts to ensure that the text has been correctly read\n",
    "\n",
    "insurance_pdfs_data.Page_Text[0]"
   ]
  },
  {
   "cell_type": "code",
   "execution_count": null,
   "metadata": {
    "id": "_NuGXCEA8WmR"
   },
   "outputs": [],
   "source": [
    "# Let's also check the length of all the texts as there might be some empty pages or pages with very few words that we can drop\n",
    "\n",
    "insurance_pdfs_data['Text_Length'] = insurance_pdfs_data['Page_Text'].apply(lambda x: len(x.split(' ')))"
   ]
  },
  {
   "cell_type": "code",
   "execution_count": null,
   "metadata": {
    "colab": {
     "base_uri": "https://localhost:8080/",
     "height": 1000
    },
    "id": "rWxcfWv18Wjd",
    "outputId": "e96d067d-0421-4b03-cd57-a823537ddfaf"
   },
   "outputs": [],
   "source": [
    "insurance_pdfs_data['Text_Length']"
   ]
  },
  {
   "cell_type": "code",
   "execution_count": null,
   "metadata": {
    "colab": {
     "base_uri": "https://localhost:8080/",
     "height": 1000
    },
    "id": "0Ib9HyvC8Wgm",
    "outputId": "c16f8c1c-7d7c-42ac-b530-31056d893c3c"
   },
   "outputs": [],
   "source": [
    "# Retain only the rows with a text length of at least 10\n",
    "\n",
    "insurance_pdfs_data = insurance_pdfs_data.loc[insurance_pdfs_data['Text_Length'] >= 10]\n",
    "insurance_pdfs_data"
   ]
  },
  {
   "cell_type": "code",
   "execution_count": null,
   "metadata": {
    "colab": {
     "base_uri": "https://localhost:8080/"
    },
    "id": "tBmaf-hL8Wdg",
    "outputId": "6e879470-3897-4b88-8902-6389b8446e29"
   },
   "outputs": [],
   "source": [
    "# Store the metadata for each page in a separate column\n",
    "\n",
    "metadata = insurance_pdfs_data.apply(lambda x: {'Policy_Name': x['Document Name'][:-4], 'Page_No.': x['Page No.']}, axis=1)\n",
    "insurance_pdfs_data['Metadata'] = metadata\n"
   ]
  },
  {
   "cell_type": "code",
   "execution_count": null,
   "metadata": {
    "colab": {
     "base_uri": "https://localhost:8080/",
     "height": 206
    },
    "id": "RjQ3MihX8WYj",
    "outputId": "5e9387b0-6e2e-46d0-c292-e2aa8f7f5b23"
   },
   "outputs": [],
   "source": [
    "\n",
    "insurance_pdfs_data.head()"
   ]
  },
  {
   "cell_type": "code",
   "execution_count": null,
   "metadata": {
    "id": "g1cAbObd8WVS"
   },
   "outputs": [],
   "source": [
    "# Import the OpenAI Embedding Function into chroma\n",
    "\n",
    "from chromadb.utils.embedding_functions import OpenAIEmbeddingFunction"
   ]
  },
  {
   "cell_type": "code",
   "execution_count": null,
   "metadata": {
    "id": "YUczgEHF9BSb"
   },
   "outputs": [],
   "source": [
    "# Define the path where chroma collections will be stored\n",
    "\n",
    "chroma_data_path = '/content/drive/MyDrive/Colab Notebooks/HelpMate AI Codes/ChromaDB_Data'"
   ]
  },
  {
   "cell_type": "code",
   "execution_count": null,
   "metadata": {
    "id": "kb4oGFjq9BO1"
   },
   "outputs": [],
   "source": [
    "import chromadb"
   ]
  },
  {
   "cell_type": "code",
   "execution_count": null,
   "metadata": {
    "id": "nPDPgBeS9BL2"
   },
   "outputs": [],
   "source": [
    "# Call PersistentClient()\n",
    "\n",
    "client = chromadb.PersistentClient()"
   ]
  },
  {
   "cell_type": "code",
   "execution_count": null,
   "metadata": {
    "id": "OK-iJoPl9BI1"
   },
   "outputs": [],
   "source": [
    "# Initialise a collection in chroma and pass the embedding_function to it so that it used OpenAI embeddings to embed the documents\n",
    "\n",
    "insurance_collection = client.get_or_create_collection(name='RAG_on_Insurance')"
   ]
  },
  {
   "cell_type": "code",
   "execution_count": null,
   "metadata": {
    "id": "Q7frcjmJ9BFw"
   },
   "outputs": [],
   "source": [
    "# Convert the page text and metadata from your dataframe to lists to be able to pass it to chroma\n",
    "\n",
    "documents_list = insurance_pdfs_data[\"Page_Text\"].tolist()\n",
    "metadata_list = insurance_pdfs_data['Metadata'].tolist()\n"
   ]
  },
  {
   "cell_type": "code",
   "execution_count": null,
   "metadata": {
    "colab": {
     "base_uri": "https://localhost:8080/"
    },
    "id": "A8TgCu7w9BCq",
    "outputId": "2444cc0b-35f0-4b40-cc23-f623dfc56e61"
   },
   "outputs": [],
   "source": [
    "# Add the documents and metadata to the collection alongwith generic integer IDs. You can also feed the metadata information as IDs by combining the policy name and page no.\n",
    "\n",
    "insurance_collection.add(\n",
    "    documents= documents_list,\n",
    "    ids = [str(i) for i in range(0, len(documents_list))],\n",
    "    metadatas = metadata_list\n",
    ")"
   ]
  },
  {
   "cell_type": "code",
   "execution_count": null,
   "metadata": {
    "colab": {
     "base_uri": "https://localhost:8080/"
    },
    "id": "gJUahhGY9A_S",
    "outputId": "be44dddf-65ee-44f0-e904-a157e1b12543"
   },
   "outputs": [],
   "source": [
    "\n",
    "# First few entries in the collection\n",
    "\n",
    "insurance_collection.get(\n",
    "    ids = ['0','1','2'],\n",
    "    include = ['embeddings', 'documents', 'metadatas']\n",
    ")"
   ]
  },
  {
   "cell_type": "code",
   "execution_count": null,
   "metadata": {
    "id": "SYPXUk1R9A8C"
   },
   "outputs": [],
   "source": [
    "cache_collection = client.get_or_create_collection(name='Insurance_Cache')"
   ]
  },
  {
   "cell_type": "code",
   "execution_count": null,
   "metadata": {
    "colab": {
     "base_uri": "https://localhost:8080/"
    },
    "id": "ZzLwBbXj-I6X",
    "outputId": "3fadccac-941a-42b8-b10f-102abb349831"
   },
   "outputs": [],
   "source": [
    "cache_collection.peek()"
   ]
  },
  {
   "cell_type": "code",
   "execution_count": null,
   "metadata": {
    "colab": {
     "base_uri": "https://localhost:8080/"
    },
    "id": "cHWIcj7d-I3Q",
    "outputId": "9db785ca-0e43-4133-d0f8-8b9e7a6622e6"
   },
   "outputs": [],
   "source": [
    "# Read the user query\n",
    "\n",
    "query = input()"
   ]
  },
  {
   "cell_type": "code",
   "execution_count": null,
   "metadata": {
    "colab": {
     "base_uri": "https://localhost:8080/"
    },
    "id": "F-x8nrpwS8eC",
    "outputId": "81089e84-728d-4ca3-b3da-c85a587a2984"
   },
   "outputs": [],
   "source": [
    "print(query)"
   ]
  },
  {
   "cell_type": "code",
   "execution_count": null,
   "metadata": {
    "id": "KPylTF9m-IyO"
   },
   "outputs": [],
   "source": [
    "cache_results = cache_collection.query(\n",
    "    query_texts=query,\n",
    "    n_results=1\n",
    ")"
   ]
  },
  {
   "cell_type": "code",
   "execution_count": null,
   "metadata": {
    "colab": {
     "base_uri": "https://localhost:8080/"
    },
    "id": "vtY3e-hS-IvD",
    "outputId": "8a094282-a389-46cc-8f30-891fc53ce645"
   },
   "outputs": [],
   "source": [
    "# Print the result\n",
    "\n",
    "cache_results"
   ]
  },
  {
   "cell_type": "code",
   "execution_count": null,
   "metadata": {
    "id": "q_rjtuVL-Irx"
   },
   "outputs": [],
   "source": [
    "results = insurance_collection.query(\n",
    "query_texts=query,\n",
    "n_results=10\n",
    ")\n"
   ]
  },
  {
   "cell_type": "code",
   "execution_count": null,
   "metadata": {
    "id": "V4ki2VDQ-qUz"
   },
   "outputs": [],
   "source": [
    "import pandas as pd\n",
    "\n",
    "def perform_semantic_search(query, cache_results, insurance_collection, cache_collection, threshold=0.2):\n",
    "    ids, documents, distances, metadatas = [], [], [], []\n",
    "    results_df = pd.DataFrame()\n",
    "\n",
    "    # Check if results are in cache\n",
    "    if not cache_results['distances'] or cache_results['distances'][0][0] > threshold:\n",
    "        # Query the main collection\n",
    "        print(\"Not found in cache. Found in main collection.\")\n",
    "        results = insurance_collection.query(query_texts=query, n_results=10)\n",
    "\n",
    "        # Prepare data for caching\n",
    "        Keys, Values = [], []\n",
    "        for key, val in results.items():\n",
    "            if val is None:\n",
    "                continue\n",
    "            for i in range(len(val[0])):  # Use len(val[0]) for dynamic handling\n",
    "                Keys.append(f\"{key}{i}\")\n",
    "                Values.append(str(val[0][i]))\n",
    "\n",
    "        # Add to cache\n",
    "        cache_collection.add(\n",
    "            documents=[query],\n",
    "            ids=[query],  # Can use incremental IDs if needed\n",
    "            metadatas=dict(zip(Keys, Values))\n",
    "        )\n",
    "\n",
    "        # Create result DataFrame\n",
    "        result_dict = {\n",
    "            'Metadatas': results['metadatas'][0],\n",
    "            'Documents': results['documents'][0],\n",
    "            'Distances': results['distances'][0],\n",
    "            'IDs': results[\"ids\"][0]\n",
    "        }\n",
    "        results_df = pd.DataFrame.from_dict(result_dict)\n",
    "\n",
    "    else:\n",
    "        # Cache hit\n",
    "        print(\"Found in cache!\")\n",
    "        cache_result_dict = cache_results['metadatas'][0][0]\n",
    "\n",
    "        # Extract cached data\n",
    "        for key, value in cache_result_dict.items():\n",
    "            if 'ids' in key:\n",
    "                ids.append(value)\n",
    "            elif 'documents' in key:\n",
    "                documents.append(value)\n",
    "            elif 'distances' in key:\n",
    "                distances.append(value)\n",
    "            elif 'metadatas' in key:\n",
    "                metadatas.append(value)\n",
    "\n",
    "        # Create DataFrame from cache results\n",
    "        results_df = pd.DataFrame({\n",
    "            'IDs': ids,\n",
    "            'Documents': documents,\n",
    "            'Distances': distances,\n",
    "            'Metadatas': metadatas\n",
    "        })\n",
    "\n",
    "    return results_df\n"
   ]
  },
  {
   "cell_type": "code",
   "execution_count": null,
   "metadata": {
    "colab": {
     "base_uri": "https://localhost:8080/",
     "height": 206
    },
    "id": "g0fDiFXz-qRw",
    "outputId": "b8ebd578-cd99-432c-9841-6f7329724915"
   },
   "outputs": [],
   "source": [
    "results_df\n"
   ]
  },
  {
   "cell_type": "code",
   "execution_count": null,
   "metadata": {
    "id": "NOwlgf39-qOn"
   },
   "outputs": [],
   "source": [
    "# Import the CrossEncoder library from sentence_transformers\n",
    "\n",
    "from sentence_transformers import CrossEncoder, util"
   ]
  },
  {
   "cell_type": "code",
   "execution_count": null,
   "metadata": {
    "colab": {
     "base_uri": "https://localhost:8080/"
    },
    "id": "ZPlWjtSo_YGQ",
    "outputId": "26ae8dad-329f-4b14-b7bc-b6bcd9cc0718"
   },
   "outputs": [],
   "source": [
    "# Initialise the cross encoder model\n",
    "\n",
    "cross_encoder = CrossEncoder('cross-encoder/ms-marco-MiniLM-L-6-v2')"
   ]
  },
  {
   "cell_type": "code",
   "execution_count": null,
   "metadata": {
    "id": "d8PwB46K_YDq"
   },
   "outputs": [],
   "source": [
    "# Test the cross encoder model\n",
    "\n",
    "scores = cross_encoder.predict([['Does the insurance cover diabetic patients?', 'The insurance policy covers some pre-existing conditions including diabetes, heart diseases, etc. The policy does not howev'],\n",
    "                                ['Does the insurance cover diabetic patients?', 'The premium rates for various age groups are given as follows. Age group (<18 years): Premium rate']])\n"
   ]
  },
  {
   "cell_type": "code",
   "execution_count": null,
   "metadata": {
    "colab": {
     "base_uri": "https://localhost:8080/"
    },
    "id": "L6YOFaeJ_YAV",
    "outputId": "0532dbc7-5ae1-4efb-c4d9-7ac47264767d"
   },
   "outputs": [],
   "source": [
    "scores"
   ]
  },
  {
   "cell_type": "code",
   "execution_count": null,
   "metadata": {
    "colab": {
     "base_uri": "https://localhost:8080/"
    },
    "id": "ijEBMcAa_X8w",
    "outputId": "e88ce8b2-edbe-4029-9a0a-95ad7e73b82d"
   },
   "outputs": [],
   "source": [
    "# Generate the cross_encoder scores for these pairs\n",
    "\n",
    "\n",
    "# Prepare inputs for cross-encoder\n",
    "cross_inputs = [[query, response] for response in results_df['Documents']]\n",
    "\n",
    "# Predict rerank scores\n",
    "cross_rerank_scores = cross_encoder.predict(cross_inputs)\n",
    "\n",
    "# Append scores to the DataFrame\n",
    "results_df['Rerank Scores'] = cross_rerank_scores\n",
    "\n",
    "# Sort results by rerank scores in descending order\n",
    "results_df = results_df.sort_values(by='Rerank Scores', ascending=False)\n",
    "\n",
    "# Display the final results\n",
    "print(\"Reranked Results:\")\n",
    "print(results_df)\n"
   ]
  },
  {
   "cell_type": "code",
   "execution_count": null,
   "metadata": {
    "colab": {
     "base_uri": "https://localhost:8080/"
    },
    "id": "rRgfmqNZ_X4d",
    "outputId": "53145167-80d7-4af7-cd6f-467878e8ca35"
   },
   "outputs": [],
   "source": [
    "cross_rerank_scores\n",
    "\n"
   ]
  },
  {
   "cell_type": "code",
   "execution_count": null,
   "metadata": {
    "id": "zh4PZ-ds_X1D"
   },
   "outputs": [],
   "source": [
    "\n",
    "# Store the rerank_scores in results_df\n",
    "\n",
    "results_df['Reranked_scores'] = cross_rerank_scores"
   ]
  },
  {
   "cell_type": "code",
   "execution_count": null,
   "metadata": {
    "colab": {
     "base_uri": "https://localhost:8080/",
     "height": 206
    },
    "id": "szefVi2F_Xq8",
    "outputId": "7e13149c-c135-4a70-a445-e6d6e42c7665"
   },
   "outputs": [],
   "source": [
    "results_df\n"
   ]
  },
  {
   "cell_type": "code",
   "execution_count": null,
   "metadata": {
    "colab": {
     "base_uri": "https://localhost:8080/"
    },
    "id": "kayG2SXLC_GO",
    "outputId": "65e6cbfc-5fda-46f1-bb20-db7281702ae2"
   },
   "outputs": [],
   "source": [
    "\n",
    "\n",
    "# Example results DataFrame with distances and documents\n",
    "top_3_semantic = results_df.sort_values(by='Distances').head(3)\n",
    "\n",
    "# Display the top 3 results\n",
    "print(\"Top 3 Semantic Search Results:\")\n",
    "print(top_3_semantic)\n"
   ]
  },
  {
   "cell_type": "code",
   "execution_count": null,
   "metadata": {
    "colab": {
     "base_uri": "https://localhost:8080/",
     "height": 206
    },
    "id": "3AYMGV1MLB3d",
    "outputId": "71e90bc7-b0a2-4166-ac65-ead9ae9f5ae9"
   },
   "outputs": [],
   "source": [
    "results_df.head()"
   ]
  },
  {
   "cell_type": "code",
   "execution_count": null,
   "metadata": {
    "colab": {
     "base_uri": "https://localhost:8080/",
     "height": 143
    },
    "id": "HNypt7RYLBu_",
    "outputId": "92b200b4-f68f-4c94-c430-77c308a78493"
   },
   "outputs": [],
   "source": [
    "top_3_rerank = results_df.sort_values(by='Reranked_scores', ascending=False)\n",
    "top_3_rerank[:3]"
   ]
  },
  {
   "cell_type": "code",
   "execution_count": null,
   "metadata": {
    "id": "er03GVWCLBr_"
   },
   "outputs": [],
   "source": [
    "top_3_RAG = top_3_rerank[[\"Documents\", \"Documents\"]][:3]"
   ]
  },
  {
   "cell_type": "code",
   "execution_count": null,
   "metadata": {
    "colab": {
     "base_uri": "https://localhost:8080/",
     "height": 143
    },
    "id": "g80bHuPQLBon",
    "outputId": "7fdb53bb-94d9-433b-a144-fb7d7b1d2096"
   },
   "outputs": [],
   "source": [
    "top_3_RAG"
   ]
  },
  {
   "cell_type": "code",
   "execution_count": null,
   "metadata": {
    "id": "c4JN_r7vLBlJ"
   },
   "outputs": [],
   "source": [
    "# Define the function to generate the response. Provide a comprehensive prompt that passes the user query and the top 3 results to the model\n",
    "\n",
    "def generate_response(query, results_df):\n",
    "    \"\"\"\n",
    "    Generate a response using GPT-3.5's ChatCompletion based on the user query and retrieved information.\n",
    "    \"\"\"\n",
    "    messages = [\n",
    "                {\"role\": \"system\", \"content\":  \"You are a helpful assistant in the insurance domain who can effectively answer user queries about insurance policies and documents.\"},\n",
    "                {\"role\": \"user\", \"content\": f\"\"\"You are a helpful assistant in the insurance domain who can effectively answer user queries about insurance policies and documents.\n",
    "                                                You have a question asked by the user in '{query}' and you have some search results from a corpus of insurance documents in the dataframe '{top_3_RAG}'. These search results are essentially one page of an insurance document that may be relevant to the user query.\n",
    "\n",
    "                                                The column 'documents' inside this dataframe contains the actual text from the policy document and the column 'metadata' contains the policy name and source page. The text inside the document may also contain tables in the format of a list of lists where each of the nested lists indicates a row.\n",
    "\n",
    "                                                Use the documents in '{top_3_RAG}' to answer the query '{query}'. Frame an informative answer and also, use the dataframe to return the relevant policy names and page numbers as citations.\n",
    "\n",
    "                                                Follow the guidelines below when performing the task.\n",
    "                                                1. Try to provide relevant/accurate numbers if available.\n",
    "                                                2. You don’t have to necessarily use all the information in the dataframe. Only choose information that is relevant.\n",
    "                                                3. If the document text has tables with relevant information, please reformat the table and return the final information in a tabular in format.\n",
    "                                                3. Use the Metadatas columns in the dataframe to retrieve and cite the policy name(s) and page numbers(s) as citation.\n",
    "                                                4. If you can't provide the complete answer, please also provide any information that will help the user to search specific sections in the relevant cited documents.\n",
    "                                                5. You are a customer facing assistant, so do not provide any information on internal workings, just answer the query directly.\n",
    "\n",
    "                                                The generated response should answer the query directly addressing the user and avoiding additional information. If you think that the query is not relevant to the document, reply that the query is irrelevant. Provide the final response as a well-formatted and easily readable text along with the citation. Provide your complete response first with all information, and then provide the citations.\n",
    "                                                \"\"\"},\n",
    "              ]\n",
    "\n",
    "    response = openai.chat.completions.create(\n",
    "        model=\"gpt-3.5-turbo\",\n",
    "        messages=messages\n",
    "    )\n",
    "\n",
    "    return response.choices[0].message.content.split('\\n')"
   ]
  },
  {
   "cell_type": "code",
   "execution_count": null,
   "metadata": {
    "id": "70WMERYfc6z1"
   },
   "outputs": [],
   "source": []
  },
  {
   "cell_type": "code",
   "execution_count": null,
   "metadata": {
    "colab": {
     "base_uri": "https://localhost:8080/",
     "height": 356
    },
    "id": "ouRZ38MrT1Ut",
    "outputId": "9853e2d1-854c-4ee2-bc3d-1e25f4166495"
   },
   "outputs": [],
   "source": [
    "\n"
   ]
  },
  {
   "cell_type": "code",
   "execution_count": null,
   "metadata": {
    "id": "gUwsd7lQjOqA"
   },
   "outputs": [],
   "source": []
  },
  {
   "cell_type": "code",
   "execution_count": null,
   "metadata": {},
   "outputs": [],
   "source": []
  },
  {
   "cell_type": "code",
   "execution_count": null,
   "metadata": {
    "id": "r9F-mdn9T1RJ"
   },
   "outputs": [],
   "source": []
  },
  {
   "cell_type": "code",
   "execution_count": null,
   "metadata": {
    "id": "pglD8AE9T1NJ"
   },
   "outputs": [],
   "source": []
  },
  {
   "cell_type": "code",
   "execution_count": null,
   "metadata": {
    "id": "UJbiTR08T1Iz"
   },
   "outputs": [],
   "source": []
  }
 ],
 "metadata": {
  "colab": {
   "provenance": []
  },
  "kernelspec": {
   "display_name": "Python 3 (ipykernel)",
   "language": "python",
   "name": "python3"
  },
  "language_info": {
   "codemirror_mode": {
    "name": "ipython",
    "version": 3
   },
   "file_extension": ".py",
   "mimetype": "text/x-python",
   "name": "python",
   "nbconvert_exporter": "python",
   "pygments_lexer": "ipython3",
   "version": "3.11.3"
  }
 },
 "nbformat": 4,
 "nbformat_minor": 1
}
